{
 "cells": [
  {
   "cell_type": "markdown",
   "metadata": {},
   "source": [
    "# PROBLEMAS DIVERSOS"
   ]
  },
  {
   "cell_type": "markdown",
   "metadata": {},
   "source": [
    "<h3>1.</h3>\n",
    "Realizar una función que permita la carga de n alumnos. Por cada alumno se deberá preguntar el nombre completo y permitir el ingreso de 3 notas. Las notas deben estar comprendidas entre 0 y 10. Devolver el listado de alumnos."
   ]
  },
  {
   "cell_type": "code",
   "execution_count": 184,
   "metadata": {},
   "outputs": [
    {
     "name": "stdin",
     "output_type": "stream",
     "text": [
      "Cuantos alumnos tienes? 3\n"
     ]
    },
    {
     "name": "stdout",
     "output_type": "stream",
     "text": [
      "tienes 3 alumnos\n"
     ]
    },
    {
     "name": "stdin",
     "output_type": "stream",
     "text": [
      "Cual es el nombre de el alumno? ale\n",
      "Cual es la primera nota? 4\n"
     ]
    },
    {
     "name": "stdout",
     "output_type": "stream",
     "text": [
      "la nota es 4\n"
     ]
    },
    {
     "name": "stdin",
     "output_type": "stream",
     "text": [
      "Cual es la segunda nota? 4\n"
     ]
    },
    {
     "name": "stdout",
     "output_type": "stream",
     "text": [
      "la nota es 4\n"
     ]
    },
    {
     "name": "stdin",
     "output_type": "stream",
     "text": [
      "Cual es la tercera nota? 4\n"
     ]
    },
    {
     "name": "stdout",
     "output_type": "stream",
     "text": [
      "la nota es 4\n",
      "el promedio de el alumno  ale es 4\n",
      "el alumno ale esta aprobado\n"
     ]
    },
    {
     "name": "stdin",
     "output_type": "stream",
     "text": [
      "Cual es el nombre de el alumno? john\n",
      "Cual es la primera nota? 3\n"
     ]
    },
    {
     "name": "stdout",
     "output_type": "stream",
     "text": [
      "la nota es 3\n"
     ]
    },
    {
     "name": "stdin",
     "output_type": "stream",
     "text": [
      "Cual es la segunda nota? 2\n"
     ]
    },
    {
     "name": "stdout",
     "output_type": "stream",
     "text": [
      "la nota es 2\n"
     ]
    },
    {
     "name": "stdin",
     "output_type": "stream",
     "text": [
      "Cual es la tercera nota? 2\n"
     ]
    },
    {
     "name": "stdout",
     "output_type": "stream",
     "text": [
      "la nota es 2\n",
      "el promedio de el alumno  john es 2\n",
      "el alumno john esta desaprobado\n"
     ]
    },
    {
     "name": "stdin",
     "output_type": "stream",
     "text": [
      "Cual es el nombre de el alumno? katy\n",
      "Cual es la primera nota? 6\n"
     ]
    },
    {
     "name": "stdout",
     "output_type": "stream",
     "text": [
      "la nota es 6\n"
     ]
    },
    {
     "name": "stdin",
     "output_type": "stream",
     "text": [
      "Cual es la segunda nota? 7\n"
     ]
    },
    {
     "name": "stdout",
     "output_type": "stream",
     "text": [
      "la nota es 7\n"
     ]
    },
    {
     "name": "stdin",
     "output_type": "stream",
     "text": [
      "Cual es la tercera nota? 1\n"
     ]
    },
    {
     "name": "stdout",
     "output_type": "stream",
     "text": [
      "la nota es 1\n",
      "el promedio de el alumno  katy es 4\n",
      "el alumno katy esta aprobado\n",
      "la lista de alumnos es ['ale', 'john', 'katy']\n"
     ]
    }
   ],
   "source": [
    "n= int(input(\"Cuantos alumnos tienes?\"))\n",
    "print (\"tienes\",n,\"alumnos\")\n",
    "\n",
    "list=[]            # creo la lista total , la de aprobados y desaprobados\n",
    "aprob=[]\n",
    "desaprob=[]\n",
    "notas=[]\n",
    "\n",
    "for x in range(n):     #creo elementos respecto al numero de alumnos para añadir a mi lista\n",
    "    \n",
    "    a=input(\"Cual es el nombre de el alumno?\")   #grabo el nombre del alumno\n",
    "    \n",
    "    while True:\n",
    "        b1=int(input(\"Cual es la primera nota?\"))  # Escribo las notas que deben ir entre 0 y 10 de otro modo se repite \n",
    "        if b1<=10 and b1>=0:                        # la pregunta . Esta operacion la repito 3 veces\n",
    "            print (\"la nota es\" ,b1)\n",
    "            break\n",
    "        else:\n",
    "            print(\"intentelo nuevamente\")\n",
    "            \n",
    "    while True:\n",
    "        b2=int(input(\"Cual es la segunda nota?\"))\n",
    "        if b2<=10 and b2>=0:\n",
    "            print (\"la nota es\" ,b2)\n",
    "            break\n",
    "        else:\n",
    "            print(\"intentelo nuevamente\")\n",
    "      \n",
    "    while True:\n",
    "        b3=int(input(\"Cual es la tercera nota?\"))\n",
    "        if b3<=10 and b3>=0:\n",
    "            print (\"la nota es\" ,b3)\n",
    "            break\n",
    "        else:\n",
    "            print(\"intentelo nuevamente\")        \n",
    "        \n",
    "    promedio=int((b1+b2+b3)/3)                             #por cada alumno creo un promedio y le doy print\n",
    "    \n",
    "    print(\"el promedio de el alumno \",a, \"es\" ,promedio)\n",
    "    \n",
    "    if promedio>=4:\n",
    "        aprob.append(a)                                   #dependiendo del promedio el alumno pasa a la lista de aprobados\n",
    "        print (\"el alumno\" ,a, \"esta aprobado\")            # o de desaprobados\n",
    "    else:\n",
    "        print (\"el alumno\" ,a, \"esta desaprobado\")\n",
    "        desaprob.append(a)\n",
    "        \n",
    "    \n",
    "    notas.append(promedio)              #los promedios seran grabadas en la lista notas \n",
    "    \n",
    "    \n",
    "    list.append(a)                      #los nombres de los alumnos(a) , seran grabados en \"list\" \n",
    "    \n",
    "    \n",
    "    \n",
    "print(\"la lista de alumnos es\",list) \n",
    "    "
   ]
  },
  {
   "cell_type": "markdown",
   "metadata": {},
   "source": [
    "### 2.\n",
    "Definir una función que dado un listado de alumnos evalúe cuántos aprobaron y cuántos desaprobaron, teniendo en cuenta que se aprueba con 4. La nota será el promedio de las 3 notas para cada alumno."
   ]
  },
  {
   "cell_type": "code",
   "execution_count": 185,
   "metadata": {},
   "outputs": [],
   "source": [
    "def funcion(g):\n",
    "    return len(g)"
   ]
  },
  {
   "cell_type": "code",
   "execution_count": 186,
   "metadata": {},
   "outputs": [
    {
     "data": {
      "text/plain": [
       "2"
      ]
     },
     "execution_count": 186,
     "metadata": {},
     "output_type": "execute_result"
    }
   ],
   "source": [
    "funcion(aprob)"
   ]
  },
  {
   "cell_type": "code",
   "execution_count": 187,
   "metadata": {},
   "outputs": [
    {
     "data": {
      "text/plain": [
       "1"
      ]
     },
     "execution_count": 187,
     "metadata": {},
     "output_type": "execute_result"
    }
   ],
   "source": [
    "funcion(desaprob)"
   ]
  },
  {
   "cell_type": "markdown",
   "metadata": {},
   "source": [
    "### 3.\n",
    "Informar el promedio de nota del curso total."
   ]
  },
  {
   "cell_type": "code",
   "execution_count": 201,
   "metadata": {},
   "outputs": [
    {
     "name": "stdout",
     "output_type": "stream",
     "text": [
      "las notas son:  [4, 2, 4]\n",
      "el promedio total del curso es:  3.3333333333333335\n"
     ]
    }
   ],
   "source": [
    "print( \"las notas son: \",notas)\n",
    "\n",
    "prometio_total_notas=sum(notas)/n  #  a eso le hago una media aritmetica, siendo \"n\" el numero que indique de alumnos al principio.\n",
    "print(\"el promedio total del curso es: \", float(prometio_total_notas))"
   ]
  },
  {
   "cell_type": "markdown",
   "metadata": {},
   "source": [
    "### 4.\n",
    "Realizar una función que indique quién tuvo el promedio más alto y quién tuvo la nota promedio más baja."
   ]
  },
  {
   "cell_type": "code",
   "execution_count": 202,
   "metadata": {},
   "outputs": [
    {
     "name": "stdout",
     "output_type": "stream",
     "text": [
      "la maxima nota es de:  ale\n",
      "la minima nota es de:  john\n"
     ]
    }
   ],
   "source": [
    "max_nota=list[notas.index(max(notas))]\n",
    "print (\"la maxima nota es de: \",max_nota)\n",
    "\n",
    "min_nota=list[notas.index(min(notas))]\n",
    "print (\"la minima nota es de: \",min_nota)"
   ]
  },
  {
   "cell_type": "markdown",
   "metadata": {},
   "source": [
    "### 5.\n",
    "Realizar una función que permita buscar un alumno por nombre, siendo el nombre completo o parcial, y devuelva una lista con los n alumnos que concuerden con ese nombre junto con todos sus datos, incluido el promedio de sus notas."
   ]
  },
  {
   "cell_type": "code",
   "execution_count": 211,
   "metadata": {},
   "outputs": [
    {
     "name": "stdin",
     "output_type": "stream",
     "text": [
      "ingrese el nombre a buscar john\n"
     ]
    },
    {
     "name": "stdout",
     "output_type": "stream",
     "text": [
      "sí esta en la lista\n",
      "el promedio de sus notas es:  2\n",
      "el alumno esta desaprobado\n"
     ]
    }
   ],
   "source": [
    "f=input(\"ingrese el nombre a buscar\")\n",
    "if True:\n",
    "    f in list\n",
    "    print(\"sí esta en la lista\")\n",
    "    print(\"el promedio de sus notas es: \", notas[list.index(f)])\n",
    "    if notas[list.index(f)]>=4:                                 \n",
    "        print (\"el alumno esta aprobado\")            \n",
    "    else:\n",
    "        print (\"el alumno esta desaprobado\")\n",
    "         \n",
    "else:\n",
    "    print(\"no esta en la lista\")\n",
    "\n",
    "\n"
   ]
  }
 ],
 "metadata": {
  "kernelspec": {
   "display_name": "Python 3",
   "language": "python",
   "name": "python3"
  },
  "language_info": {
   "codemirror_mode": {
    "name": "ipython",
    "version": 3
   },
   "file_extension": ".py",
   "mimetype": "text/x-python",
   "name": "python",
   "nbconvert_exporter": "python",
   "pygments_lexer": "ipython3",
   "version": "3.8.3"
  }
 },
 "nbformat": 4,
 "nbformat_minor": 4
}
