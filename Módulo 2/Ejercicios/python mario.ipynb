{
 "cells": [
  {
   "cell_type": "code",
   "execution_count": 26,
   "metadata": {},
   "outputs": [
    {
     "name": "stdin",
     "output_type": "stream",
     "text": [
      "ingrese la cantidad de #s:  5\n"
     ]
    },
    {
     "name": "stdout",
     "output_type": "stream",
     "text": [
      "      #\n",
      "     ##\n",
      "    ###\n",
      "   ####\n",
      "  #####\n"
     ]
    }
   ],
   "source": [
    "while True:\n",
    "    t=int(input(\"ingrese la cantidad de #s: \"))\n",
    "    if t>0 and t<=8:\n",
    "        for i in range (t):\n",
    "            print (\" \"*(t-i+1)+\"#\"*(i+1))\n",
    "        break\n",
    "    else: \n",
    "        print (\"error\")\n",
    "        "
   ]
  },
  {
   "cell_type": "code",
   "execution_count": 2,
   "metadata": {},
   "outputs": [
    {
     "name": "stdin",
     "output_type": "stream",
     "text": [
      "ingrese la cantidad de #s:  5\n"
     ]
    },
    {
     "name": "stdout",
     "output_type": "stream",
     "text": [
      "      #\n",
      "     ##\n",
      "    ###\n",
      "   ####\n",
      "  #####\n"
     ]
    }
   ],
   "source": [
    "t=int(input(\"ingrese la cantidad de #s: \"))\n",
    "def func(t):\n",
    "    while True:\n",
    "        if t>0 and t<=8:\n",
    "            for i in range (t):\n",
    "                print (\" \"*(t-i+1)+\"#\"*(i+1))\n",
    "            break\n",
    "        else: \n",
    "            print (\"error\")\n",
    "func(t)      "
   ]
  },
  {
   "cell_type": "code",
   "execution_count": null,
   "metadata": {},
   "outputs": [],
   "source": []
  }
 ],
 "metadata": {
  "kernelspec": {
   "display_name": "Python 3",
   "language": "python",
   "name": "python3"
  },
  "language_info": {
   "codemirror_mode": {
    "name": "ipython",
    "version": 3
   },
   "file_extension": ".py",
   "mimetype": "text/x-python",
   "name": "python",
   "nbconvert_exporter": "python",
   "pygments_lexer": "ipython3",
   "version": "3.8.3"
  }
 },
 "nbformat": 4,
 "nbformat_minor": 4
}
